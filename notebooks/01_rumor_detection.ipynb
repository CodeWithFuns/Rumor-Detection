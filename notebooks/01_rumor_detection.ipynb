{
 "cells": [
  {
   "cell_type": "markdown",
   "metadata": {},
   "source": [
    "# Rumor Detection: quick start\n",
    "Run these cells top-to-bottom to train and test a TF-IDF + Logistic Regression model."
   ]
  },
  {
   "cell_type": "code",
   "execution_count": null,
   "metadata": {},
   "outputs": [],
   "source": [
    "import os, sys, json\n",
    "from pathlib import Path\n",
    "sys.path.append(str((Path.cwd() / '..').resolve()))\n",
    "from rumor_detection.data import load_dataset\n",
    "from rumor_detection.models import train_tfidf_model, load_model, evaluate\n",
    "from sklearn.model_selection import train_test_split\n",
    "\n",
    "data_path = '../data/sample/mini.csv'\n",
    "X, y = load_dataset(data_path, 'text', 'label')\n",
    "x_tr, x_val, y_tr, y_val = train_test_split(X, y, test_size=0.2, random_state=42, stratify=y)\n",
    "res = train_tfidf_model(x_tr, y_tr, x_val, y_val, model_name='lr', save_dir='../models')\n",
    "print(res)\n",
    "pipe = load_model(res.pipeline_path)\n",
    "acc, f1m, rep = evaluate(pipe, X, y, report_path='../reports/metrics.json')\n",
    "print(acc, f1m)\n",
    "print(rep)"
   ]
  },
  {
   "cell_type": "code",
   "execution_count": null,
   "id": "9fbabe7a",
   "metadata": {},
   "outputs": [],
   "source": []
  }
 ],
 "metadata": {
  "kernelspec": {
   "display_name": "Python 3",
   "language": "python",
   "name": "python3"
  },
  "language_info": {
   "name": "python"
  }
 },
 "nbformat": 4,
 "nbformat_minor": 5
}
